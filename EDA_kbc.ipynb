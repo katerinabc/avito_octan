{
 "cells": [
  {
   "cell_type": "markdown",
   "metadata": {},
   "source": [
    "# EDA"
   ]
  },
  {
   "cell_type": "code",
   "execution_count": null,
   "metadata": {
    "collapsed": true
   },
   "outputs": [],
   "source": [
    "import numpy as np # linear algebra\n",
    "import pandas as pd # data processing, CSV file I/O (e.g. pd.read_csv)"
   ]
  },
  {
   "cell_type": "code",
   "execution_count": null,
   "metadata": {
    "collapsed": true
   },
   "outputs": [],
   "source": [
    "# Input data files are available in the \"../input/\" directory.\n",
    "# For example, running this (by clicking run or pressing Shift+Enter) will list the files in the input directory\n",
    "\n",
    "import os\n",
    "print(os.listdir('input'))"
   ]
  },
  {
   "cell_type": "code",
   "execution_count": null,
   "metadata": {
    "collapsed": true
   },
   "outputs": [],
   "source": [
    "train_df = pd.read_csv(\"input/train.csv\", parse_dates=[\"activation_date\"])\n",
    "test_df = pd.read_csv(\"input/test.csv\", parse_dates=[\"activation_date\"])\n",
    "train_df.head()"
   ]
  },
  {
   "cell_type": "code",
   "execution_count": null,
   "metadata": {
    "collapsed": true
   },
   "outputs": [],
   "source": [
    "train_df.describe()"
   ]
  },
  {
   "cell_type": "code",
   "execution_count": null,
   "metadata": {
    "collapsed": true
   },
   "outputs": [],
   "source": [
    "train_df.dtypes"
   ]
  },
  {
   "cell_type": "code",
   "execution_count": null,
   "metadata": {
    "collapsed": true
   },
   "outputs": [],
   "source": [
    "import matplotlib.pyplot as plt\n",
    "import seaborn as sns"
   ]
  },
  {
   "cell_type": "code",
   "execution_count": null,
   "metadata": {
    "collapsed": true
   },
   "outputs": [],
   "source": [
    "sns.distplot(train_df.deal_probability.values)"
   ]
  },
  {
   "cell_type": "code",
   "execution_count": null,
   "metadata": {
    "collapsed": true
   },
   "outputs": [],
   "source": [
    "plt.figure(figsize=(12,8))\n",
    "sns.boxplot(x=\"parent_category_name\", y=\"deal_probability\", data=train_df)\n",
    "plt.ylabel('Deal probability', fontsize=12)\n",
    "plt.xlabel('Parent Category', fontsize=12)\n",
    "plt.title(\"Deal probability by parent category\", fontsize=14)\n",
    "plt.xticks(rotation='vertical')\n",
    "plt.show()"
   ]
  },
  {
   "cell_type": "code",
   "execution_count": null,
   "metadata": {
    "collapsed": true
   },
   "outputs": [],
   "source": [
    "Density plot of selling probability by parent category\n",
    "Density plot of selling probability by parent city\n",
    "Density plot of selling probability by parent price"
   ]
  },
  {
   "cell_type": "code",
   "execution_count": null,
   "metadata": {
    "collapsed": true
   },
   "outputs": [],
   "source": [
    "# Create a list of parent categories with more than 100 measurements\n",
    "types = train_df.dropna(subset=['deal_probability'])\n",
    "types = types['parent_category_name'].value_counts()\n",
    "types = list(types[types.values > 100].index)\n",
    "\n",
    "# Plot of distribution of scores for building categories\n",
    "plt.figure(figsize=(8, 6))\n",
    "\n",
    "# Plot each Parent Category\n",
    "for pc_type in types:\n",
    "    # Select the building type\n",
    "    subset = train_df[train_df['parent_category_name'] == pc_type]\n",
    "    \n",
    "    # Density plot of Energy Star scores\n",
    "    sns.kdeplot(subset['deal_probability'].dropna(),\n",
    "               label = pc_type, shade = False, alpha = 0.8);\n",
    "    \n",
    "# label the plot\n",
    "plt.xlabel('Deal Probability', size = 20); plt.ylabel('Density', size = 20); \n",
    "plt.title('Density Plot of Deal Probability by Parent Category', size = 28);\n",
    "plt.show()"
   ]
  },
  {
   "cell_type": "code",
   "execution_count": null,
   "metadata": {
    "collapsed": true
   },
   "outputs": [],
   "source": [
    "# Create a list of region with more than 100 measurements\n",
    "types = train_df.dropna(subset=['deal_probability'])\n",
    "types = types['region'].value_counts()\n",
    "types = list(types[types.values > 100].index)\n",
    "\n",
    "# Plot of distribution of scores for building categories\n",
    "#figsize(12, 10) # works in a later version of pandas\n",
    "plt.figure(figsize=(12, 10))\n",
    "\n",
    "# Plot each region\n",
    "for pc_type in types:\n",
    "    # Select the building type\n",
    "    subset = train_df[train_df['region'] == pc_type]\n",
    "    \n",
    "    # Density plot of Energy Star scores\n",
    "    sns.kdeplot(subset['deal_probability'].dropna(),\n",
    "               label = pc_type, shade = False, alpha = 0.8);\n",
    "    \n",
    "# label the plot\n",
    "plt.xlabel('Deal Probability', size = 20); plt.ylabel('Density', size = 20); \n",
    "plt.title('Density Plot of Deal Probability by region', size = 28);\n",
    "plt.show()"
   ]
  },
  {
   "cell_type": "code",
   "execution_count": null,
   "metadata": {
    "collapsed": true
   },
   "outputs": [],
   "source": [
    "# Find all correlations with the score and sort \n",
    "correlations_data = train_df.corr()['deal_probability'].sort_values()"
   ]
  },
  {
   "cell_type": "code",
   "execution_count": null,
   "metadata": {
    "collapsed": true
   },
   "outputs": [],
   "source": [
    "correlations_data"
   ]
  },
  {
   "cell_type": "markdown",
   "metadata": {},
   "source": [
    "low correlation between deal probability and other continuous variables"
   ]
  },
  {
   "cell_type": "markdown",
   "metadata": {},
   "source": [
    "# replace missing price by median price"
   ]
  },
  {
   "cell_type": "code",
   "execution_count": null,
   "metadata": {
    "collapsed": true
   },
   "outputs": [],
   "source": [
    "test_df.isnull().sum() / test_df.shape[0] * 100"
   ]
  },
  {
   "cell_type": "markdown",
   "metadata": {},
   "source": [
    "only writing test.isnull() gives me T/F for each cell."
   ]
  },
  {
   "cell_type": "code",
   "execution_count": null,
   "metadata": {
    "collapsed": true
   },
   "outputs": [],
   "source": [
    "test_df['price'].median()"
   ]
  },
  {
   "cell_type": "code",
   "execution_count": null,
   "metadata": {
    "collapsed": true
   },
   "outputs": [],
   "source": [
    "test_df.loc[:,'price_new'] = test_df['price'].fillna(test_df['price'].median())"
   ]
  }
 ],
 "metadata": {
  "kernelspec": {
   "display_name": "Python 3",
   "language": "python",
   "name": "python3"
  },
  "language_info": {
   "codemirror_mode": {
    "name": "ipython",
    "version": 3
   },
   "file_extension": ".py",
   "mimetype": "text/x-python",
   "name": "python",
   "nbconvert_exporter": "python",
   "pygments_lexer": "ipython3",
   "version": "3.6.0"
  }
 },
 "nbformat": 4,
 "nbformat_minor": 2
}
